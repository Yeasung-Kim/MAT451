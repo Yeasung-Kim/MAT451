{
  "nbformat": 4,
  "nbformat_minor": 0,
  "metadata": {
    "colab": {
      "private_outputs": true,
      "provenance": [],
      "authorship_tag": "ABX9TyMgcy2D+6iZaeXqkZaQaOyc",
      "include_colab_link": true
    },
    "kernelspec": {
      "name": "python3",
      "display_name": "Python 3"
    },
    "language_info": {
      "name": "python"
    }
  },
  "cells": [
    {
      "cell_type": "markdown",
      "metadata": {
        "id": "view-in-github",
        "colab_type": "text"
      },
      "source": [
        "<a href=\"https://colab.research.google.com/github/Yeasung-Kim/MAT451/blob/main/MAT451_Project_2.ipynb\" target=\"_parent\"><img src=\"https://colab.research.google.com/assets/colab-badge.svg\" alt=\"Open In Colab\"/></a>"
      ]
    },
    {
      "cell_type": "code",
      "execution_count": null,
      "metadata": {
        "id": "8yw0b5eKnwFN"
      },
      "outputs": [],
      "source": [
        "!pip install pybaseball\n",
        "from pybaseball import statcast\n",
        "import pandas as pd\n",
        "\n",
        "dfs = []\n",
        "date_ranges = [\n",
        "    (\"2017-01-01\", \"2017-01-31\"),\n",
        "    (\"2017-02-01\", \"2017-02-28\"),\n",
        "    (\"2017-03-01\", \"2017-03-31\"),\n",
        "    (\"2017-04-01\", \"2017-04-30\"),\n",
        "    (\"2017-05-01\", \"2017-05-31\"),\n",
        "    (\"2017-06-01\", \"2017-06-30\"),\n",
        "    (\"2017-07-01\", \"2017-07-31\"),\n",
        "    (\"2017-08-01\", \"2017-08-31\"),\n",
        "    (\"2017-09-01\", \"2017-09-30\"),\n",
        "    (\"2017-10-01\", \"2017-10-31\"),\n",
        "    (\"2017-11-01\", \"2017-11-30\"),\n",
        "    (\"2017-12-01\", \"2017-12-31\")\n",
        "]\n",
        "\n",
        "for start, end in date_ranges:\n",
        "    try:\n",
        "        temp_df = statcast(start_dt=start, end_dt=end)\n",
        "        dfs.append(temp_df)\n",
        "    except Exception as e:\n",
        "        print(f\"Error fetching data from {start} to {end}: {e}\")\n",
        "\n",
        "# Combine all monthly DataFrames\n",
        "data_2017 = pd.concat(dfs, ignore_index=True)\n",
        "print(\"Final combined shape:\", data_2017.shape)\n"
      ]
    },
    {
      "cell_type": "code",
      "source": [
        "# Proceed with cleaning\n",
        "columns_of_interest = [\n",
        "    \"game_date\", \"batter\", \"player_name\",\n",
        "    \"launch_speed\", \"launch_angle\",\n",
        "    \"hc_x\", \"hc_y\", \"events\"\n",
        "]\n",
        "\n",
        "columns_to_use = [col for col in columns_of_interest if col in data_2017.columns]\n",
        "df_2017 = data_2017[columns_to_use]\n",
        "\n",
        "df_2017_clean = df_2017.dropna(\n",
        "    subset=[\"launch_speed\", \"launch_angle\", \"hc_x\", \"hc_y\"]\n",
        ")\n",
        "\n",
        "df_2017_clean = df_2017_clean[df_2017_clean[\"events\"].notna()]\n",
        "df_2017_clean.reset_index(drop=True, inplace=True)\n",
        "\n",
        "print(\"Cleaned dataset shape:\", df_2017_clean.shape)\n",
        "df_2017_clean.sample(10)\n"
      ],
      "metadata": {
        "id": "xCqXUolonzrn"
      },
      "execution_count": null,
      "outputs": []
    },
    {
      "cell_type": "code",
      "source": [
        "import matplotlib.pyplot as plt\n",
        "\n",
        "# Assume your cleaned DataFrame is called df_2017_clean\n",
        "# with the columns:\n",
        "#   \"launch_speed\"\n",
        "#   \"launch_angle\"\n",
        "#   \"hc_x\"\n",
        "#   \"hc_y\"\n",
        "#   \"events\"\n",
        "# etc.\n",
        "\n",
        "# 1) Histogram of Launch Speeds\n",
        "\n",
        "plt.figure()\n",
        "plt.hist(df_2017_clean[\"launch_speed\"], bins=30)\n",
        "plt.title(\"Distribution of Launch Speed (mph)\")\n",
        "plt.xlabel(\"Launch Speed (mph)\")\n",
        "plt.ylabel(\"Count\")\n",
        "plt.show()"
      ],
      "metadata": {
        "id": "KGdi0y3Go2qx"
      },
      "execution_count": null,
      "outputs": []
    },
    {
      "cell_type": "markdown",
      "source": [
        "# What It Shows\n",
        "X-axis (Launch Speed): How fast the ball comes off the bat, measured in miles per hour (mph).\n",
        "\n",
        "Y-axis (Count): The number of batted balls that fell into each speed bin.\n",
        "\n",
        "# How to Interpret\n",
        "A single peak near a certain mph range suggests a typical exit velocity where most batted balls cluster.\n",
        "\n",
        "Higher launch speeds (e.g., > 100 mph) typically correspond to harder-hit balls, which are often more valuable offensively (e.g., more extra-base hits).\n",
        "\n",
        "If you see a long tail to the right, it means there are a few exceptionally hard-hit balls (e.g., 110–120 mph).\n",
        "\n",
        "The spread (e.g., from ~50–120 mph) shows the range of contact quality from weakly hit balls to well-hit drives."
      ],
      "metadata": {
        "id": "e6Zs4S5xpp_7"
      }
    },
    {
      "cell_type": "code",
      "source": [
        "# 2) Scatter Plot: Launch Angle vs. Launch Speed\n",
        "\n",
        "plt.figure()\n",
        "plt.scatter(\n",
        "    df_2017_clean[\"launch_angle\"],\n",
        "    df_2017_clean[\"launch_speed\"],\n",
        "    alpha=0.3  # make points semi-transparent for overlap\n",
        ")\n",
        "plt.title(\"Launch Angle vs. Launch Speed\")\n",
        "plt.xlabel(\"Launch Angle (degrees)\")\n",
        "plt.ylabel(\"Launch Speed (mph)\")\n",
        "plt.show()"
      ],
      "metadata": {
        "id": "uDU-ggl5pHSP"
      },
      "execution_count": null,
      "outputs": []
    },
    {
      "cell_type": "markdown",
      "source": [
        "# What It Shows\n",
        "X-axis (Launch Angle): The vertical angle at which the ball leaves the bat.\n",
        "\n",
        "Y-axis (Launch Speed): Again, how fast the ball was hit.\n",
        "\n",
        "# How to Interpret\n",
        "Each point corresponds to a single batted ball.\n",
        "\n",
        "High speed + moderate angle (often in a “sweet spot” of ~10–30°) is more likely to lead to line drives or fly balls that can become extra-base hits or home runs.\n",
        "\n",
        "Very low angles (negative values or close to 0°) at high speeds typically turn into hard grounders.\n",
        "\n",
        "Very high angles (e.g., > 40°) might be high fly balls or pop-ups, often resulting in outs unless coupled with very high exit velocity.\n",
        "\n",
        "A visible “cluster” might show the most common combination, e.g., around 85–95 mph and 10–20° angle, indicating typical line drives.\n",
        "\n",
        "Outliers can indicate extreme hits (either very high or very low angles, extremely high or low exit velocity)."
      ],
      "metadata": {
        "id": "bTJbggFap1s7"
      }
    },
    {
      "cell_type": "code",
      "source": [
        "# 3) Bar Chart: Event Type Distribution\n",
        "event_counts = df_2017_clean[\"events\"].value_counts()\n",
        "\n",
        "plt.figure()\n",
        "plt.bar(event_counts.index, event_counts.values)\n",
        "plt.title(\"Event Counts in 2017 (Cleaned Dataset)\")\n",
        "plt.xlabel(\"Event Type\")\n",
        "plt.ylabel(\"Count\")\n",
        "plt.xticks(rotation=45)\n",
        "plt.show()"
      ],
      "metadata": {
        "id": "lCQWR5YbpJ9L"
      },
      "execution_count": null,
      "outputs": []
    },
    {
      "cell_type": "markdown",
      "source": [
        "# What It Shows\n",
        "X-axis (Event Type): Different outcomes recorded in the dataset (e.g., single, double, home_run, field_out, etc.).\n",
        "\n",
        "Y-axis (Count): The total number of times each outcome occurred in the cleaned dataset.\n",
        "\n",
        "# How to Interpret\n",
        "This chart gives you a quick view of which outcomes are most/least frequent.\n",
        "\n",
        "Typically, field_out (or other “out” variations) will be the highest count, since most batted balls result in outs.\n",
        "\n",
        "The ratio of singles, doubles, triples, and home runs to outs shows the overall offensive environment.\n",
        "\n",
        "If an event category seems suspiciously low or high, double-check your data cleaning or event mapping logic (e.g., Are certain events missing? Did you categorize them properly?)."
      ],
      "metadata": {
        "id": "5d66ZgsJp_ra"
      }
    },
    {
      "cell_type": "code",
      "source": [
        "# 4) Spray Chart: hc_x vs. hc_y\n",
        "# Visualizes where the ball landed on the field\n",
        "plt.figure()\n",
        "plt.scatter(\n",
        "    df_2017_clean[\"hc_x\"],\n",
        "    df_2017_clean[\"hc_y\"],\n",
        "    alpha=0.3\n",
        ")\n",
        "plt.title(\"Spray Chart: hc_x vs. hc_y\")\n",
        "plt.xlabel(\"hc_x\")\n",
        "plt.ylabel(\"hc_y\")\n",
        "plt.show()"
      ],
      "metadata": {
        "id": "oEXqiBq8pNgq"
      },
      "execution_count": null,
      "outputs": []
    },
    {
      "cell_type": "markdown",
      "source": [
        "# What It Shows\n",
        "X-axis (hc_x) and Y-axis (hc_y): Approximate coordinates of where the batted ball lands in a 2D plane. In Statcast, (0,0) is usually the top-left corner of the field diagram, and (250,250) might be bottom-right, but exact calibrations vary.\n",
        "\n",
        "# How to Interpret\n",
        "A spray chart shows you directional tendencies.\n",
        "\n",
        "If most of the points are on one side, it might indicate pull tendencies for a particular batter (if you filter by player) or general hitting distributions for all batters.\n",
        "\n",
        "A symmetrical spread might show a balanced or “spray” approach across the field.\n",
        "\n",
        "You might notice more clustering in certain outfield areas (e.g., a lot of balls around center field if it’s a league-wide dataset).\n",
        "\n",
        "If you see data that looks truncated or artificially constrained, check if the coordinate transformation (e.g., home plate offset) is properly handled."
      ],
      "metadata": {
        "id": "TWuazMmgqN2r"
      }
    },
    {
      "cell_type": "code",
      "source": [],
      "metadata": {
        "id": "YdHteiu4qUUg"
      },
      "execution_count": null,
      "outputs": []
    }
  ]
}